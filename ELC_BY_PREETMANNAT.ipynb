{
  "cells": [
    {
      "cell_type": "code",
      "execution_count": 36,
      "metadata": {
        "colab": {
          "base_uri": "https://localhost:8080/"
        },
        "id": "R02oTQOkIMor",
        "outputId": "03306394-a0e3-4d37-bbe1-f4c50f92b64d"
      },
      "outputs": [
        {
          "name": "stdout",
          "output_type": "stream",
          "text": [
            "Requirement already satisfied: fpdf in /usr/local/lib/python3.10/dist-packages (1.7.2)\n",
            "Requirement already satisfied: pandas in /usr/local/lib/python3.10/dist-packages (2.0.3)\n",
            "Requirement already satisfied: python-dateutil>=2.8.2 in /usr/local/lib/python3.10/dist-packages (from pandas) (2.8.2)\n",
            "Requirement already satisfied: pytz>=2020.1 in /usr/local/lib/python3.10/dist-packages (from pandas) (2023.4)\n",
            "Requirement already satisfied: tzdata>=2022.1 in /usr/local/lib/python3.10/dist-packages (from pandas) (2024.1)\n",
            "Requirement already satisfied: numpy>=1.21.0 in /usr/local/lib/python3.10/dist-packages (from pandas) (1.25.2)\n",
            "Requirement already satisfied: six>=1.5 in /usr/local/lib/python3.10/dist-packages (from python-dateutil>=2.8.2->pandas) (1.16.0)\n",
            "Requirement already satisfied: numpy in /usr/local/lib/python3.10/dist-packages (1.25.2)\n",
            "Requirement already satisfied: seaborn in /usr/local/lib/python3.10/dist-packages (0.13.1)\n",
            "Requirement already satisfied: numpy!=1.24.0,>=1.20 in /usr/local/lib/python3.10/dist-packages (from seaborn) (1.25.2)\n",
            "Requirement already satisfied: pandas>=1.2 in /usr/local/lib/python3.10/dist-packages (from seaborn) (2.0.3)\n",
            "Requirement already satisfied: matplotlib!=3.6.1,>=3.4 in /usr/local/lib/python3.10/dist-packages (from seaborn) (3.7.1)\n",
            "Requirement already satisfied: contourpy>=1.0.1 in /usr/local/lib/python3.10/dist-packages (from matplotlib!=3.6.1,>=3.4->seaborn) (1.2.1)\n",
            "Requirement already satisfied: cycler>=0.10 in /usr/local/lib/python3.10/dist-packages (from matplotlib!=3.6.1,>=3.4->seaborn) (0.12.1)\n",
            "Requirement already satisfied: fonttools>=4.22.0 in /usr/local/lib/python3.10/dist-packages (from matplotlib!=3.6.1,>=3.4->seaborn) (4.53.0)\n",
            "Requirement already satisfied: kiwisolver>=1.0.1 in /usr/local/lib/python3.10/dist-packages (from matplotlib!=3.6.1,>=3.4->seaborn) (1.4.5)\n",
            "Requirement already satisfied: packaging>=20.0 in /usr/local/lib/python3.10/dist-packages (from matplotlib!=3.6.1,>=3.4->seaborn) (24.1)\n",
            "Requirement already satisfied: pillow>=6.2.0 in /usr/local/lib/python3.10/dist-packages (from matplotlib!=3.6.1,>=3.4->seaborn) (9.4.0)\n",
            "Requirement already satisfied: pyparsing>=2.3.1 in /usr/local/lib/python3.10/dist-packages (from matplotlib!=3.6.1,>=3.4->seaborn) (3.1.2)\n",
            "Requirement already satisfied: python-dateutil>=2.7 in /usr/local/lib/python3.10/dist-packages (from matplotlib!=3.6.1,>=3.4->seaborn) (2.8.2)\n",
            "Requirement already satisfied: pytz>=2020.1 in /usr/local/lib/python3.10/dist-packages (from pandas>=1.2->seaborn) (2023.4)\n",
            "Requirement already satisfied: tzdata>=2022.1 in /usr/local/lib/python3.10/dist-packages (from pandas>=1.2->seaborn) (2024.1)\n",
            "Requirement already satisfied: six>=1.5 in /usr/local/lib/python3.10/dist-packages (from python-dateutil>=2.7->matplotlib!=3.6.1,>=3.4->seaborn) (1.16.0)\n"
          ]
        }
      ],
      "source": [
        "!pip install fpdf\n",
        "!pip install pandas\n",
        "!pip install numpy\n",
        "!pip install seaborn"
      ]
    },
    {
      "cell_type": "code",
      "execution_count": 37,
      "metadata": {
        "id": "Kt4CqVvZIW1T"
      },
      "outputs": [],
      "source": [
        "# Step 1: Import necessary libraries\n",
        "import pandas as pd\n",
        "import numpy as np\n",
        "from sklearn.model_selection import train_test_split\n",
        "from sklearn.neighbors import KNeighborsClassifier\n",
        "from sklearn.metrics import accuracy_score, confusion_matrix\n",
        "from sklearn.preprocessing import StandardScaler\n",
        "import matplotlib.pyplot as plt\n",
        "import seaborn as sns\n",
        "from fpdf import FPDF"
      ]
    },
    {
      "cell_type": "code",
      "execution_count": 38,
      "metadata": {
        "id": "-qo0L3wHIYXi"
      },
      "outputs": [],
      "source": [
        "# Step 2: Load and preprocess the data\n",
        "data = pd.read_csv('data.csv')"
      ]
    },
    {
      "cell_type": "code",
      "execution_count": 39,
      "metadata": {
        "id": "2lVMZEuyIcxd"
      },
      "outputs": [],
      "source": [
        "# Check for missing values\n",
        "if data.isnull().sum().sum() > 0:\n",
        "    data.fillna(0, inplace=True)  # Fill missing values with 0"
      ]
    },
    {
      "cell_type": "code",
      "execution_count": 40,
      "metadata": {
        "id": "MBiQGI1JIefO"
      },
      "outputs": [],
      "source": [
        "X = data.iloc[:, 1:].values  # Pixel values\n",
        "y = data.iloc[:, 0].values   # Labels"
      ]
    },
    {
      "cell_type": "code",
      "execution_count": 41,
      "metadata": {
        "id": "v23ZgRyyIgOc"
      },
      "outputs": [],
      "source": [
        "# Normalize the pixel values\n",
        "scaler = StandardScaler()\n",
        "X = scaler.fit_transform(X)"
      ]
    },
    {
      "cell_type": "code",
      "execution_count": 42,
      "metadata": {
        "id": "7DIwoRRlIhfB"
      },
      "outputs": [],
      "source": [
        "# Step 3: Define a function to evaluate the KNN model\n",
        "def evaluate_knn(X_train, X_test, y_train, y_test, k):\n",
        "    knn = KNeighborsClassifier(n_neighbors=k)\n",
        "    knn.fit(X_train, y_train)\n",
        "    y_pred = knn.predict(X_test)\n",
        "    accuracy = accuracy_score(y_test, y_pred)\n",
        "    conf_matrix = confusion_matrix(y_test, y_pred)\n",
        "    return accuracy, conf_matrix"
      ]
    },
    {
      "cell_type": "code",
      "execution_count": 43,
      "metadata": {
        "id": "80dCgU1HIjWp"
      },
      "outputs": [],
      "source": [
        "# Step 4: Loop over different scenarios\n",
        "results = []\n",
        "k_values = [2, 4, 5, 6, 7, 10]\n",
        "splits = [0.6, 0.7, 0.75, 0.8, 0.9, 0.95]"
      ]
    },
    {
      "cell_type": "code",
      "execution_count": 44,
      "metadata": {
        "id": "O2nm1SNZIk2U"
      },
      "outputs": [],
      "source": [
        "for split in splits:\n",
        "    for k in k_values:\n",
        "        X_train, X_test, y_train, y_test = train_test_split(X, y, test_size=1-split, random_state=42)\n",
        "        accuracy, conf_matrix = evaluate_knn(X_train, X_test, y_train, y_test, k)\n",
        "        results.append({\n",
        "            'train_split': split,\n",
        "            'test_split': 1-split,\n",
        "            'k': k,\n",
        "            'accuracy': accuracy,\n",
        "            'conf_matrix': conf_matrix\n",
        "        })"
      ]
    },
    {
      "cell_type": "code",
      "execution_count": 45,
      "metadata": {
        "id": "DX4yI4EvIm5T"
      },
      "outputs": [],
      "source": [
        "# Step 5: Save the results in a PDF\n",
        "class PDF(FPDF):\n",
        "    def header(self):\n",
        "        self.set_font('Arial', 'B', 12)\n",
        "        self.cell(0, 10, 'KNN Model Performance', 0, 1, 'C')\n",
        "\n",
        "    def chapter_title(self, title):\n",
        "        self.set_font('Arial', 'B', 12)\n",
        "        self.cell(0, 10, title, 0, 1, 'L')\n",
        "        self.ln(5)\n",
        "\n",
        "    def chapter_body(self, body):\n",
        "        self.set_font('Arial', '', 12)\n",
        "        self.multi_cell(0, 10, body)\n",
        "        self.ln()\n",
        "\n",
        "    def add_confusion_matrix(self, matrix, title):\n",
        "        self.add_page()\n",
        "        self.chapter_title(title)\n",
        "        fig, ax = plt.subplots(figsize=(10, 7))\n",
        "        sns.heatmap(matrix, annot=True, fmt='d', cmap='Blues', ax=ax)\n",
        "        plt.title('Confusion Matrix')\n",
        "        plt.xlabel('Predicted')\n",
        "        plt.ylabel('True')\n",
        "        plt.savefig('conf_matrix.png')\n",
        "        plt.close(fig)\n",
        "        self.image('conf_matrix.png', x=10, y=None, w=190)\n",
        "        self.ln(10)\n",
        "\n",
        "pdf = PDF()\n",
        "pdf.add_page()"
      ]
    },
    {
      "cell_type": "code",
      "execution_count": 46,
      "metadata": {
        "colab": {
          "base_uri": "https://localhost:8080/",
          "height": 35
        },
        "id": "gb1GM6kOIr8M",
        "outputId": "d0baeeaa-8910-4c8c-cf65-5f655e7feb18"
      },
      "outputs": [
        {
          "data": {
            "application/vnd.google.colaboratory.intrinsic+json": {
              "type": "string"
            },
            "text/plain": [
              "''"
            ]
          },
          "execution_count": 46,
          "metadata": {},
          "output_type": "execute_result"
        }
      ],
      "source": [
        "for result in results:\n",
        "    title = f'Train/Test Split: {result[\"train_split\"]*100}/{result[\"test_split\"]*100}, K={result[\"k\"]}'\n",
        "    body = f'Accuracy: {result[\"accuracy\"]*100:.2f}%\\nConfusion Matrix:\\n{result[\"conf_matrix\"]}'\n",
        "    pdf.chapter_title(title)\n",
        "    pdf.chapter_body(body)\n",
        "    pdf.add_confusion_matrix(result['conf_matrix'], title)\n",
        "\n",
        "pdf.output('KNN_model_performance.pdf')"
      ]
    },
    {
      "cell_type": "code",
      "execution_count": 47,
      "metadata": {
        "colab": {
          "base_uri": "https://localhost:8080/"
        },
        "id": "RwQgLpRlItmw",
        "outputId": "d67e7b2f-10bb-417c-d82d-6473564498d8"
      },
      "outputs": [
        {
          "name": "stdout",
          "output_type": "stream",
          "text": [
            "Accuracy: 94.01%\n",
            "Confusion Matrix:\n",
            "[[802   0   3   0   0   1  10   0   0   0]\n",
            " [  0 903   2   0   0   1   2   0   1   0]\n",
            " [  9  11 791  12   1   3   5   3   8   3]\n",
            " [  4   4   2 883   0  16   1   9   9   9]\n",
            " [  2   6   5   2 786   2   6   3   0  27]\n",
            " [  5   1   3  26   2 646  11   1   2   5]\n",
            " [ 12   1   3   0   1   8 760   0   0   0]\n",
            " [  2  17   5   6  11   0   0 824   0  28]\n",
            " [  6  14   7  19  12  34   5   2 731   5]\n",
            " [  6   3   3  13  10   1   0  27   4 771]]\n"
          ]
        }
      ],
      "source": [
        "# Uncomment and run one scenario as an example\n",
        "X_train, X_test, y_train, y_test = train_test_split(X, y, test_size=1-0.8, random_state=42)\n",
        "accuracy, conf_matrix = evaluate_knn(X_train, X_test, y_train, y_test, 5)\n",
        "print(f'Accuracy: {accuracy*100:.2f}%')\n",
        "print('Confusion Matrix:')\n",
        "print(conf_matrix)"
      ]
    },
    {
      "cell_type": "code",
      "execution_count": 47,
      "metadata": {
        "id": "sQORC1H9Ix-1"
      },
      "outputs": [],
      "source": []
    }
  ],
  "metadata": {
    "colab": {
      "provenance": []
    },
    "kernelspec": {
      "display_name": "Python 3",
      "name": "python3"
    },
    "language_info": {
      "name": "python"
    }
  },
  "nbformat": 4,
  "nbformat_minor": 0
}
